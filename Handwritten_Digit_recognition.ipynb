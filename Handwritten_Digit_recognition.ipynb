{
  "nbformat": 4,
  "nbformat_minor": 0,
  "metadata": {
    "colab": {
      "private_outputs": true,
      "provenance": []
    },
    "kernelspec": {
      "name": "python3",
      "display_name": "Python 3"
    },
    "language_info": {
      "name": "python"
    }
  },
  "cells": [
    {
      "cell_type": "markdown",
      "source": [
        "# **Import libraries**"
      ],
      "metadata": {
        "id": "hjnVXv2PeOdg"
      }
    },
    {
      "cell_type": "code",
      "execution_count": null,
      "metadata": {
        "id": "3hMMQh-CXNxu"
      },
      "outputs": [],
      "source": [
        "import pandas as pd\n",
        "import numpy as np\n",
        "from sklearn.model_selection import train_test_split"
      ]
    },
    {
      "cell_type": "markdown",
      "source": [
        "# **Load dataset**"
      ],
      "metadata": {
        "id": "odpMGzIZeVHX"
      }
    },
    {
      "cell_type": "code",
      "source": [
        "train = pd.read_csv('digittrain.csv')"
      ],
      "metadata": {
        "id": "JZjX7TM5czqo"
      },
      "execution_count": null,
      "outputs": []
    },
    {
      "cell_type": "code",
      "source": [
        "test = pd.read_csv('digittest.csv')"
      ],
      "metadata": {
        "id": "6ngbsWIEdAxs"
      },
      "execution_count": null,
      "outputs": []
    },
    {
      "cell_type": "code",
      "source": [
        "train.head(2)"
      ],
      "metadata": {
        "id": "M8DzHSz_dIFm"
      },
      "execution_count": null,
      "outputs": []
    },
    {
      "cell_type": "code",
      "source": [
        "test.head(2)"
      ],
      "metadata": {
        "id": "SyCZcDdkdMfI"
      },
      "execution_count": null,
      "outputs": []
    },
    {
      "cell_type": "markdown",
      "source": [
        "# **Data cleaning**"
      ],
      "metadata": {
        "id": "9cpjBXyHekmC"
      }
    },
    {
      "cell_type": "code",
      "source": [
        "train.info()"
      ],
      "metadata": {
        "id": "sG_SdLdodvK-"
      },
      "execution_count": null,
      "outputs": []
    },
    {
      "cell_type": "code",
      "source": [
        "test.info()"
      ],
      "metadata": {
        "id": "Dacdn3Hbe_PD"
      },
      "execution_count": null,
      "outputs": []
    },
    {
      "cell_type": "code",
      "source": [
        "train.isna().sum()"
      ],
      "metadata": {
        "id": "q8uEUp7_dhge"
      },
      "execution_count": null,
      "outputs": []
    },
    {
      "cell_type": "code",
      "source": [
        "test.isna().sum()"
      ],
      "metadata": {
        "id": "Psm55F3Edqg1"
      },
      "execution_count": null,
      "outputs": []
    },
    {
      "cell_type": "code",
      "source": [
        "train.describe()"
      ],
      "metadata": {
        "id": "sGFUqwaEd4UI"
      },
      "execution_count": null,
      "outputs": []
    },
    {
      "cell_type": "code",
      "source": [
        "ImageId = test.index\n",
        "y = train.iloc[:,0]\n",
        "x=train.iloc[::,1:]\n",
        "x_test = test"
      ],
      "metadata": {
        "id": "odgMHnYTd-iX"
      },
      "execution_count": null,
      "outputs": []
    },
    {
      "cell_type": "code",
      "source": [
        "y"
      ],
      "metadata": {
        "id": "FxrJllQMgr9M"
      },
      "execution_count": null,
      "outputs": []
    },
    {
      "cell_type": "code",
      "source": [
        "x"
      ],
      "metadata": {
        "id": "vmskiHWlg0zI"
      },
      "execution_count": null,
      "outputs": []
    },
    {
      "cell_type": "code",
      "source": [
        "x_test"
      ],
      "metadata": {
        "id": "w9bwFOiqg1pX"
      },
      "execution_count": null,
      "outputs": []
    },
    {
      "cell_type": "markdown",
      "source": [
        "# **Scaler**"
      ],
      "metadata": {
        "id": "SUEPJTEthH9l"
      }
    },
    {
      "cell_type": "code",
      "source": [
        "x = x/255\n",
        "x_test = x_test/ 255"
      ],
      "metadata": {
        "id": "dd_UdIfrhCJg"
      },
      "execution_count": null,
      "outputs": []
    },
    {
      "cell_type": "code",
      "source": [
        "x"
      ],
      "metadata": {
        "id": "_itIDtkZhZnM"
      },
      "execution_count": null,
      "outputs": []
    },
    {
      "cell_type": "code",
      "source": [
        "x_test"
      ],
      "metadata": {
        "id": "XD_iGZlXhbFt"
      },
      "execution_count": null,
      "outputs": []
    },
    {
      "cell_type": "markdown",
      "source": [
        "# **spliting x for traning and validating**"
      ],
      "metadata": {
        "id": "yJGrSKXIhq1F"
      }
    },
    {
      "cell_type": "code",
      "source": [
        "x_train, x_valid, y_train, y_valid = train_test_split(x,y,test_size = 0.1, random_state = 1)\n",
        "x_train.shape, x_valid.shape ,y_train.shape ,y_valid.shape ,x_test.shape"
      ],
      "metadata": {
        "id": "Wq19jLrbhgsl"
      },
      "execution_count": null,
      "outputs": []
    },
    {
      "cell_type": "markdown",
      "source": [
        "# **Define model**"
      ],
      "metadata": {
        "id": "b3_0AmVzjw86"
      }
    },
    {
      "cell_type": "code",
      "source": [
        "from sklearn.neural_network import MLPClassifier"
      ],
      "metadata": {
        "id": "8E9KY0x-pWuc"
      },
      "execution_count": null,
      "outputs": []
    },
    {
      "cell_type": "code",
      "source": [
        "model= MLPClassifier(hidden_layer_sizes=(50, ),max_iter=50 ,alpha=1e-4,solver='sgd',verbose=10,random_state=1)"
      ],
      "metadata": {
        "id": "JewsqrN1jq56"
      },
      "execution_count": null,
      "outputs": []
    },
    {
      "cell_type": "code",
      "source": [
        "# Fit the model to the training data\n",
        "model.fit(x_train, y_train)"
      ],
      "metadata": {
        "id": "1_m7Bb9WqVOo"
      },
      "execution_count": null,
      "outputs": []
    },
    {
      "cell_type": "code",
      "source": [
        "print(model.score(x_train , y_train))"
      ],
      "metadata": {
        "id": "11j0iltdppTC"
      },
      "execution_count": null,
      "outputs": []
    },
    {
      "cell_type": "markdown",
      "source": [
        "# **predict on validation set**"
      ],
      "metadata": {
        "id": "Ii1vcBEQBWHI"
      }
    },
    {
      "cell_type": "code",
      "source": [
        "y_pred = model.predict(x_valid)\n",
        "print(model.score(x_valid,y_valid))"
      ],
      "metadata": {
        "id": "QrWJVy1jjvPS"
      },
      "execution_count": null,
      "outputs": []
    },
    {
      "cell_type": "code",
      "source": [
        "x_valid = pd.DataFrame({'actual_value':y_valid,'predicted_value':y_pred})\n",
        "x_valid.reset_index(drop=True,inplace=True)\n",
        "x_valid"
      ],
      "metadata": {
        "id": "hiLB9rOhB-aX"
      },
      "execution_count": null,
      "outputs": []
    },
    {
      "cell_type": "markdown",
      "source": [
        "# **predict on test set**"
      ],
      "metadata": {
        "id": "x4zKf4BJFyWc"
      }
    },
    {
      "cell_type": "code",
      "source": [
        "prediction = model.predict(x_test)\n",
        "prediction"
      ],
      "metadata": {
        "id": "KEtrSKpwFw0R"
      },
      "execution_count": null,
      "outputs": []
    },
    {
      "cell_type": "markdown",
      "source": [
        "# **prepare submission**"
      ],
      "metadata": {
        "id": "u_PJu812GP7l"
      }
    },
    {
      "cell_type": "code",
      "source": [
        "ImageId"
      ],
      "metadata": {
        "id": "cUK0_nCCGK3H"
      },
      "execution_count": null,
      "outputs": []
    },
    {
      "cell_type": "code",
      "source": [
        "output = pd.DataFrame({'ImageId':ImageId,'Label':prediction})\n",
        "output.to_csv('submission for digit.csv',index=False)\n",
        "print(\"Your submission was successfully saved :\")"
      ],
      "metadata": {
        "id": "5_VKpyI4MjL0"
      },
      "execution_count": null,
      "outputs": []
    },
    {
      "cell_type": "code",
      "source": [
        "submission = pd.read_csv('submission for digit.csv')\n",
        "submission"
      ],
      "metadata": {
        "id": "YAP1HolcPu0r"
      },
      "execution_count": null,
      "outputs": []
    }
  ]
}